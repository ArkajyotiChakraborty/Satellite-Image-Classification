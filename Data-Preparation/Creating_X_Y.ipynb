{
  "nbformat": 4,
  "nbformat_minor": 0,
  "metadata": {
    "colab": {
      "name": "Creating-X-Y.ipynb",
      "provenance": []
    },
    "kernelspec": {
      "name": "python3",
      "display_name": "Python 3"
    },
    "language_info": {
      "name": "python"
    }
  },
  "cells": [
    {
      "cell_type": "markdown",
      "source": [
        "We will be solving Image classification problem here using Machine learning and deep learning techniques. "
      ],
      "metadata": {
        "id": "vhSHwb8yu4sr"
      }
    },
    {
      "cell_type": "markdown",
      "source": [
        "Import's"
      ],
      "metadata": {
        "id": "XGNLNR_3Ioq6"
      }
    },
    {
      "cell_type": "code",
      "execution_count": 1,
      "metadata": {
        "id": "Ifon96xGuzyC"
      },
      "outputs": [],
      "source": [
        "from tensorflow.keras.preprocessing import image\n",
        "import numpy as np\n",
        "import pandas as pd\n",
        "import os\n",
        "import cv2\n",
        "import matplotlib.pyplot as plt"
      ]
    },
    {
      "cell_type": "markdown",
      "source": [
        "File"
      ],
      "metadata": {
        "id": "KwE7-Cu4I4Pw"
      }
    },
    {
      "cell_type": "code",
      "source": [
        "new_file = '/content/drive/MyDrive/Satelite-Data'"
      ],
      "metadata": {
        "id": "QR80QV0rI3ZR"
      },
      "execution_count": 2,
      "outputs": []
    },
    {
      "cell_type": "code",
      "source": [
        "x = []\n",
        "\n",
        "for folder in os.listdir(new_file):\n",
        "    sub_path=new_file+\"/\"+folder\n",
        "    for img in os.listdir(sub_path):\n",
        "        image_path=sub_path+\"/\"+img\n",
        "        img_arr=cv2.imread(image_path)\n",
        "        img_arr=cv2.resize(img_arr,(224,224))\n",
        "        x.append(img_arr)"
      ],
      "metadata": {
        "id": "WeC64d2BJPYa"
      },
      "execution_count": 3,
      "outputs": []
    },
    {
      "cell_type": "code",
      "source": [
        "X = np.array(x)"
      ],
      "metadata": {
        "id": "QjZYvGRqKBGg"
      },
      "execution_count": 4,
      "outputs": []
    },
    {
      "cell_type": "code",
      "source": [
        "X.shape # we will save this and do splitting differently if needed for different  models. "
      ],
      "metadata": {
        "colab": {
          "base_uri": "https://localhost:8080/"
        },
        "id": "2SFePO4FKMeM",
        "outputId": "e352a5d8-8851-43ff-fa86-6c52e0658127"
      },
      "execution_count": 5,
      "outputs": [
        {
          "output_type": "execute_result",
          "data": {
            "text/plain": [
              "(5631, 224, 224, 3)"
            ]
          },
          "metadata": {},
          "execution_count": 5
        }
      ]
    },
    {
      "cell_type": "code",
      "source": [
        "from tensorflow.keras.preprocessing.image import ImageDataGenerator"
      ],
      "metadata": {
        "id": "B1G82rAKM-rO"
      },
      "execution_count": 7,
      "outputs": []
    },
    {
      "cell_type": "code",
      "source": [
        "label = ImageDataGenerator(rescale = 1./255)\n",
        "\n",
        "\n",
        "y = label.flow_from_directory(new_file, target_size = (224, 224), batch_size = 32, class_mode = 'sparse')"
      ],
      "metadata": {
        "colab": {
          "base_uri": "https://localhost:8080/"
        },
        "id": "iWlTYHg8NEid",
        "outputId": "3f2b0743-0ebc-4581-b118-fd5ae9fe9ed5"
      },
      "execution_count": 9,
      "outputs": [
        {
          "output_type": "stream",
          "name": "stdout",
          "text": [
            "Found 5631 images belonging to 4 classes.\n"
          ]
        }
      ]
    },
    {
      "cell_type": "code",
      "source": [
        "y.class_indices"
      ],
      "metadata": {
        "colab": {
          "base_uri": "https://localhost:8080/"
        },
        "id": "-M1jB707NzQD",
        "outputId": "4e9d7c82-d851-4f86-c301-a231640eadae"
      },
      "execution_count": 10,
      "outputs": [
        {
          "output_type": "execute_result",
          "data": {
            "text/plain": [
              "{'cloudy': 0, 'desert': 1, 'green_area': 2, 'water': 3}"
            ]
          },
          "metadata": {},
          "execution_count": 10
        }
      ]
    },
    {
      "cell_type": "code",
      "source": [
        "Y=y.classes"
      ],
      "metadata": {
        "id": "XcH9DBLeODYi"
      },
      "execution_count": 11,
      "outputs": []
    },
    {
      "cell_type": "code",
      "source": [
        "Y.shape"
      ],
      "metadata": {
        "colab": {
          "base_uri": "https://localhost:8080/"
        },
        "id": "SBJUOcK1OJqK",
        "outputId": "c8e98cbd-b9b0-4afb-be5b-f51b37e5405e"
      },
      "execution_count": 12,
      "outputs": [
        {
          "output_type": "execute_result",
          "data": {
            "text/plain": [
              "(5631,)"
            ]
          },
          "metadata": {},
          "execution_count": 12
        }
      ]
    },
    {
      "cell_type": "code",
      "source": [
        "print(X.shape,Y.shape)"
      ],
      "metadata": {
        "colab": {
          "base_uri": "https://localhost:8080/"
        },
        "id": "zwJnmdCCOoT7",
        "outputId": "3d2eba7c-e23d-4b1e-f6ac-96f79c4565f8"
      },
      "execution_count": 13,
      "outputs": [
        {
          "output_type": "stream",
          "name": "stdout",
          "text": [
            "(5631, 224, 224, 3) (5631,)\n"
          ]
        }
      ]
    },
    {
      "cell_type": "markdown",
      "source": [
        "Let's save the files here that is X and Y"
      ],
      "metadata": {
        "id": "hfBDiXE0Ojtl"
      }
    },
    {
      "cell_type": "code",
      "source": [
        "np.save('/content/X.npy',X)\n",
        "np.save('/content/Y.npy',Y)"
      ],
      "metadata": {
        "id": "kT2LOMtCOsdq"
      },
      "execution_count": 15,
      "outputs": []
    }
  ]
}